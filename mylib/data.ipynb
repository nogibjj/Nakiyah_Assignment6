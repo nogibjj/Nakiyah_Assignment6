{
 "cells": [
  {
   "cell_type": "code",
   "execution_count": 8,
   "metadata": {},
   "outputs": [
    {
     "name": "stdout",
     "output_type": "stream",
     "text": [
      "   Employee_ID  Age           Job_Role       Industry  Years_of_Experience  \\\n",
      "0      EMP0001   32                 HR     Healthcare                   13   \n",
      "1      EMP0002   40     Data Scientist             IT                    3   \n",
      "2      EMP0003   59  Software Engineer      Education                   22   \n",
      "3      EMP0004   27  Software Engineer        Finance                   20   \n",
      "4      EMP0005   49              Sales     Consulting                   32   \n",
      "..         ...  ...                ...            ...                  ...   \n",
      "95     EMP0096   44    Project Manager  Manufacturing                    2   \n",
      "96     EMP0097   35     Data Scientist     Healthcare                   31   \n",
      "97     EMP0098   48           Designer             IT                   32   \n",
      "98     EMP0099   31     Data Scientist     Healthcare                   19   \n",
      "99     EMP0100   53    Project Manager             IT                   12   \n",
      "\n",
      "   Work_Location  Hours_Worked_Per_Week  \n",
      "0         Hybrid                     47  \n",
      "1         Remote                     52  \n",
      "2         Hybrid                     46  \n",
      "3         Onsite                     32  \n",
      "4         Onsite                     35  \n",
      "..           ...                    ...  \n",
      "95        Remote                     54  \n",
      "96        Hybrid                     33  \n",
      "97        Hybrid                     25  \n",
      "98        Onsite                     21  \n",
      "99        Hybrid                     45  \n",
      "\n",
      "[100 rows x 7 columns]\n",
      "   Employee_ID Mental_Health_Condition Access_to_Mental_Health_Resources\n",
      "0      EMP0001              Depression                                No\n",
      "1      EMP0002                 Anxiety                                No\n",
      "2      EMP0003                 Anxiety                                No\n",
      "3      EMP0004              Depression                               Yes\n",
      "4      EMP0005                    None                               Yes\n",
      "..         ...                     ...                               ...\n",
      "95     EMP0096                 Burnout                                No\n",
      "96     EMP0097                 Burnout                                No\n",
      "97     EMP0098                 Burnout                                No\n",
      "98     EMP0099                 Burnout                                No\n",
      "99     EMP0100                    None                                No\n",
      "\n",
      "[100 rows x 3 columns]\n"
     ]
    }
   ],
   "source": [
    "import pandas as pd\n",
    "import sqlite3\n",
    "\n",
    "\n",
    "df = pd.read_csv(\"/Users/nakiyah/Nakiyah_Assignment6/Data/Impact_of_Remote_Work_on_Mental_Health.csv\")\n",
    "\n",
    "df_employeedata = df[['Employee_ID', 'Age', 'Job_Role', 'Industry', 'Years_of_Experience', 'Work_Location', 'Hours_Worked_Per_Week']].copy()\n",
    "df_mentalhealth = df[['Employee_ID', 'Mental_Health_Condition', 'Access_to_Mental_Health_Resources']].copy()\n",
    "\n",
    "df_employeedata = (df_employeedata.head(100)).copy()\n",
    "df_mentalhealth = (df_mentalhealth.head(100)).copy()\n",
    "\n",
    "df_employeedata.loc[:, 'Age'] = pd.to_numeric(df_employeedata['Age'], errors='coerce')\n",
    "df_employeedata.loc[:, 'Years_of_Experience'] = pd.to_numeric(df_employeedata['Years_of_Experience'], errors='coerce')\n",
    "df_employeedata.loc[:, 'Hours_Worked_Per_Week'] = pd.to_numeric(df_employeedata['Hours_Worked_Per_Week'], errors='coerce')\n",
    "\n",
    "# Converting Access_to_Mental_Health_Resources to boolean\n",
    "df_mentalhealth['Access_to_Mental_Health_Resources'] = df_mentalhealth['Access_to_Mental_Health_Resources'].map({'Yes': True, 'No': False})\n",
    "\n",
    "df_employeedata.dropna(inplace=True)\n",
    "df_mentalhealth.dropna(inplace=True)\n"
   ]
  }
 ],
 "metadata": {
  "kernelspec": {
   "display_name": "Python 3",
   "language": "python",
   "name": "python3"
  },
  "language_info": {
   "codemirror_mode": {
    "name": "ipython",
    "version": 3
   },
   "file_extension": ".py",
   "mimetype": "text/x-python",
   "name": "python",
   "nbconvert_exporter": "python",
   "pygments_lexer": "ipython3",
   "version": "3.11.2"
  }
 },
 "nbformat": 4,
 "nbformat_minor": 2
}
